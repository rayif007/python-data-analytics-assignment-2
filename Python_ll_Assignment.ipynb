{
  "nbformat": 4,
  "nbformat_minor": 0,
  "metadata": {
    "colab": {
      "provenance": []
    },
    "kernelspec": {
      "name": "python3",
      "display_name": "Python 3"
    },
    "language_info": {
      "name": "python"
    }
  },
  "cells": [
    {
      "cell_type": "markdown",
      "source": [
        "# **List: Creation, Modification, and Access**"
      ],
      "metadata": {
        "id": "BG6bFVRvoUv5"
      }
    },
    {
      "cell_type": "code",
      "source": [
        "# a. Create a list named age_list with five integer elements.\n",
        "age_list = [24, 25, 26, 27, 28]\n",
        "\n",
        "# b. Create a list named name_list with five string elements.\n",
        "name_list = [\"Ali\", \"Sara\", \"John\", \"Meera\", \"Kiran\"]\n",
        "\n",
        "\n",
        "# a. Append the string  to name_list\n",
        "name_list.append(\"Yazhini\")\n",
        "print('After append:', name_list)"
      ],
      "metadata": {
        "colab": {
          "base_uri": "https://localhost:8080/"
        },
        "id": "lWkqcGWzoekG",
        "outputId": "b333ebd1-c6c7-4f9f-e796-dd2ea2faa62c"
      },
      "execution_count": null,
      "outputs": [
        {
          "output_type": "stream",
          "name": "stdout",
          "text": [
            "After append: ['Ali', 'Sara', 'John', 'Meera', 'Kiran', 'Yazhini']\n"
          ]
        }
      ]
    },
    {
      "cell_type": "code",
      "source": [
        "# b. Insert the element 30 at index 2 in age_list\n",
        "\n",
        "age_list.insert(2,30)\n",
        "print('After insert:', age_list)"
      ],
      "metadata": {
        "colab": {
          "base_uri": "https://localhost:8080/"
        },
        "id": "GKBGcz8OpxUs",
        "outputId": "148992cb-96d6-4abb-9c2b-b83d54a35697"
      },
      "execution_count": null,
      "outputs": [
        {
          "output_type": "stream",
          "name": "stdout",
          "text": [
            "After insert: [24, 25, 30, 26, 27, 28]\n"
          ]
        }
      ]
    },
    {
      "cell_type": "code",
      "source": [
        "name_list.remove(\"Yazhini\")\n",
        "print('After Remove:',name_list)"
      ],
      "metadata": {
        "colab": {
          "base_uri": "https://localhost:8080/"
        },
        "id": "W1OpzcLmrxa6",
        "outputId": "935b64d6-16ac-4d67-aa94-d23bbaf26311"
      },
      "execution_count": null,
      "outputs": [
        {
          "output_type": "stream",
          "name": "stdout",
          "text": [
            "After Remove: ['Ali', 'Sara', 'John', 'Meera', 'Kiran']\n"
          ]
        }
      ]
    },
    {
      "cell_type": "code",
      "source": [
        "popped_age = age_list.pop()\n",
        "print('After pop:', age_list)\n",
        "print('popped_age:', popped_age)"
      ],
      "metadata": {
        "colab": {
          "base_uri": "https://localhost:8080/"
        },
        "id": "1b6LmWyssknE",
        "outputId": "30fc0443-74f0-4f5d-fa14-e29dc1ce73d3"
      },
      "execution_count": null,
      "outputs": [
        {
          "output_type": "stream",
          "name": "stdout",
          "text": [
            "After pop: [24, 25, 30, 26, 27]\n",
            "popped_age: 28\n"
          ]
        }
      ]
    },
    {
      "cell_type": "code",
      "source": [
        "age_list.extend([30,29,26])\n",
        "print('After extend:', age_list)\n",
        "print('extended age_list:', age_list.extend)"
      ],
      "metadata": {
        "colab": {
          "base_uri": "https://localhost:8080/"
        },
        "id": "6Xbo2ezXtPHY",
        "outputId": "9d4ce652-4e0f-40df-8ed2-02a024e36afb"
      },
      "execution_count": null,
      "outputs": [
        {
          "output_type": "stream",
          "name": "stdout",
          "text": [
            "After extend: [24, 25, 26, 27, 28, 30, 29, 26]\n",
            "extended age_list: <built-in method extend of list object at 0x7fb8e76b2340>\n"
          ]
        }
      ]
    },
    {
      "cell_type": "code",
      "source": [
        "age_list.sort(reverse=True)\n",
        "print(\"Sorted in descending order:\", age_list)"
      ],
      "metadata": {
        "colab": {
          "base_uri": "https://localhost:8080/"
        },
        "id": "fIe_lnuaBAIj",
        "outputId": "c7efe9f9-8b70-47a5-bc2a-97f9348e4a52"
      },
      "execution_count": null,
      "outputs": [
        {
          "output_type": "stream",
          "name": "stdout",
          "text": [
            "Sorted in descending order: [30, 29, 28, 27, 26, 26, 25, 24]\n"
          ]
        }
      ]
    },
    {
      "cell_type": "code",
      "source": [
        "#  Find Max age, Min age, and sum of all ages from age_list\n",
        "max_age = max(age_list)\n",
        "min_age = min(age_list)\n",
        "sum_ages = sum(age_list)\n",
        "\n",
        "print(\"Max age:\", max_age)\n",
        "print(\"Min age:\", min_age)\n",
        "print(\"Sum of all ages:\", sum_ages)"
      ],
      "metadata": {
        "colab": {
          "base_uri": "https://localhost:8080/"
        },
        "id": "BorMheZ0BALT",
        "outputId": "9cc33c90-15ce-460b-c024-15aa7f50cf31"
      },
      "execution_count": null,
      "outputs": [
        {
          "output_type": "stream",
          "name": "stdout",
          "text": [
            "Max age: 30\n",
            "Min age: 24\n",
            "Sum of all ages: 215\n"
          ]
        }
      ]
    },
    {
      "cell_type": "code",
      "source": [
        "name_list = [\"Ali\", \"Sara\", \"John\", \"Meera\", \"Kiran\"]\n",
        "\n",
        "print('first name:', name_list[0])\n",
        "\n",
        "print('element from 2nd and 4th index:', name_list[2:5])\n",
        "\n",
        "print('last name:', name_list[-1])\n"
      ],
      "metadata": {
        "colab": {
          "base_uri": "https://localhost:8080/"
        },
        "id": "7BAPSx5mIe0_",
        "outputId": "9d960d40-e6f5-48a7-c6f3-218b44311905"
      },
      "execution_count": null,
      "outputs": [
        {
          "output_type": "stream",
          "name": "stdout",
          "text": [
            "first name: Ali\n",
            "element from 2nd and 4th index: ['John', 'Meera', 'Kiran']\n",
            "last name: Kiran\n"
          ]
        }
      ]
    },
    {
      "cell_type": "markdown",
      "source": [
        "# *** Dictionary: Creation, Modification, and Access***"
      ],
      "metadata": {
        "id": "NIwtp7w0J5YR"
      }
    },
    {
      "cell_type": "code",
      "source": [
        "student_marks = {\n",
        "    \"Ali\": 85,\n",
        "    \"Sara\": 78,\n",
        "    \"John\": 92,\n",
        "    \"Meera\": 66,\n",
        "    \"Kiran\": 74\n",
        "}\n",
        "# acessing a specific student\n",
        "print('mark of John:', student_marks['John'])\n",
        "\n",
        "#adding a student\n",
        "student_marks['janani'] = 80\n",
        "print('after adding janani:', student_marks)\n",
        "\n",
        "#updating a student mark\n",
        "student_marks[\"Meera\"] =95\n",
        "print('after updating meera:', student_marks)\n",
        "\n",
        "#deleting a student\n",
        "del student_marks[\"Kiran\"]\n",
        "print('after deleting kiran:', student_marks)\n",
        "\n",
        "\n",
        "#keys(),Values(),Methods()\n",
        "print(\"All student names:\", student_marks.keys())\n",
        "print(\"All marks:\", student_marks.values())\n",
        "print(\"All student-mark pairs:\", student_marks.items())\n",
        "\n"
      ],
      "metadata": {
        "colab": {
          "base_uri": "https://localhost:8080/"
        },
        "id": "n0cWGxxtJ6r5",
        "outputId": "ff034f4c-234f-49da-8be4-8be57cd970bf"
      },
      "execution_count": null,
      "outputs": [
        {
          "output_type": "stream",
          "name": "stdout",
          "text": [
            "mark of John: 92\n",
            "after adding janani: {'Ali': 85, 'Sara': 78, 'John': 92, 'Meera': 66, 'Kiran': 74, 'janani': 80}\n",
            "after updating meera: {'Ali': 85, 'Sara': 78, 'John': 92, 'Meera': 95, 'Kiran': 74, 'janani': 80}\n",
            "after deleting kiran: {'Ali': 85, 'Sara': 78, 'John': 92, 'Meera': 95, 'janani': 80}\n",
            "All student names: dict_keys(['Ali', 'Sara', 'John', 'Meera', 'janani'])\n",
            "All marks: dict_values([85, 78, 92, 95, 80])\n",
            "All student-mark pairs: dict_items([('Ali', 85), ('Sara', 78), ('John', 92), ('Meera', 95), ('janani', 80)])\n"
          ]
        }
      ]
    },
    {
      "cell_type": "markdown",
      "source": [
        "Sets: Creation and Operations"
      ],
      "metadata": {
        "id": "cTG1_jgivpGv"
      }
    },
    {
      "cell_type": "code",
      "source": [
        "my_set = set(['a', 'e', 'i', 'o', 'u', 'a', 'a', 'i'])\n",
        "print(\"my_set:\", my_set)\n"
      ],
      "metadata": {
        "colab": {
          "base_uri": "https://localhost:8080/"
        },
        "id": "KDpJin2Evrez",
        "outputId": "16d4f004-8e0d-49bd-dacd-6d63ecbf67eb"
      },
      "execution_count": 1,
      "outputs": [
        {
          "output_type": "stream",
          "name": "stdout",
          "text": [
            "my_set: {'a', 'e', 'u', 'o', 'i'}\n"
          ]
        }
      ]
    },
    {
      "cell_type": "code",
      "source": [
        "try:\n",
        "  my_set[4] = 's'\n",
        "\n",
        "except TypeError as e:\n",
        "  print(\"Error:\", e)"
      ],
      "metadata": {
        "colab": {
          "base_uri": "https://localhost:8080/"
        },
        "id": "1s0-aDIkv5rb",
        "outputId": "6dc1f9c9-dd2a-4fbb-bd24-0a292e9e6cc9"
      },
      "execution_count": 2,
      "outputs": [
        {
          "output_type": "stream",
          "name": "stdout",
          "text": [
            "Error: 'set' object does not support item assignment\n"
          ]
        }
      ]
    },
    {
      "cell_type": "code",
      "source": [
        "set1 = {1, 3, 5, 7, 9}\n",
        "set2 = {2, 3, 5, 8, 10}\n",
        "\n",
        "union_set = set1.union(set2)\n",
        "intersection_set = set1.intersection(set2)\n",
        "\n",
        "print(\"unionset1 and set2:\", union_set)\n",
        "print(\"intersectionset1 and set2:\", intersection_set)"
      ],
      "metadata": {
        "colab": {
          "base_uri": "https://localhost:8080/"
        },
        "id": "GQv8fjzDxjJw",
        "outputId": "280cf36a-bad0-4fb4-8243-bea688b09c45"
      },
      "execution_count": 3,
      "outputs": [
        {
          "output_type": "stream",
          "name": "stdout",
          "text": [
            "unionset1 and set2: {1, 2, 3, 5, 7, 8, 9, 10}\n",
            "intersectionset1 and set2: {3, 5}\n"
          ]
        }
      ]
    },
    {
      "cell_type": "markdown",
      "source": [
        "**Operators & Conditional Statements: Performance Category Program**"
      ],
      "metadata": {
        "id": "cQlzUCy0yl8P"
      }
    },
    {
      "cell_type": "code",
      "source": [
        "\n",
        "score = int(input(\"Enter your score (0 to 10): \"))\n",
        "\n",
        "# Evaluate using conditional statements\n",
        "if score > 10 or score < 0:\n",
        "    print(\"Invalid input. Score must be between 0 and 10.\")\n",
        "elif score > 7:\n",
        "    print(\"Above Average: Excellent work! Keep it up.\")\n",
        "elif score >= 4:\n",
        "    print(\"Average: Good effort! Keep practicing, there's room for improvement.\")\n",
        "else:\n",
        "    print(\"Below Average: Need to improve your performance. Consistent practice will lead to better results.\")\n"
      ],
      "metadata": {
        "colab": {
          "base_uri": "https://localhost:8080/"
        },
        "id": "f2FjZWmvzyAw",
        "outputId": "8a4e1b78-6259-4797-88b8-c1db188f65b2"
      },
      "execution_count": 9,
      "outputs": [
        {
          "output_type": "stream",
          "name": "stdout",
          "text": [
            "Enter your score (0 to 10): 9\n",
            "Above Average: Excellent work! Keep it up.\n"
          ]
        }
      ]
    }
  ]
}